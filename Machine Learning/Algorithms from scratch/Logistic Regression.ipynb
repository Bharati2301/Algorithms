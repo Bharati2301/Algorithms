{
 "cells": [
  {
   "cell_type": "code",
   "execution_count": null,
   "metadata": {},
   "outputs": [],
   "source": [
    "import numpy as np\n",
    "import pandas as pd\n",
    "import matplotlib.pyplot as plt\n",
    "from sklearn import preprocessing\n",
    "from sklearn.preprocessing import MinMaxScaler\n",
    "import statsmodels.api as sm\n",
    "from sklearn.metrics import r2_score\n",
    "import time\n",
    "from tqdm import tqdm\n",
    "import math"
   ]
  },
  {
   "cell_type": "markdown",
   "metadata": {},
   "source": [
    "## Sigmoid Function"
   ]
  },
  {
   "cell_type": "code",
   "execution_count": null,
   "metadata": {},
   "outputs": [],
   "source": [
    "X = np.array([20, 23, 24, 25, 25, 26, 26, 28, 28, 29, 30, 30, 30, 30, 30, 30, 32, 32, 33])#\n",
    "Y = np.array([0,0,0,0,1,0,0,0,0,0,0,0,0,0,0,1,0,0,0])"
   ]
  },
  {
   "cell_type": "code",
   "execution_count": null,
   "metadata": {},
   "outputs": [],
   "source": [
    "X = X.reshape(X.shape[0], 1)\n",
    "Y = Y.reshape(Y.shape[0], 1)\n",
    "X.shape, Y.shape"
   ]
  },
  {
   "cell_type": "code",
   "execution_count": null,
   "metadata": {},
   "outputs": [],
   "source": [
    "def sigmoid(X, Y, theta, epoch, alpha):\n",
    "    m = Y.size\n",
    "    past_theta = [theta]\n",
    "    past_cost = []\n",
    "    for i in range(epoch):\n",
    "        z = np.dot(X, theta)\n",
    "        a =  1 / (1 + np.exp(-z)) \n",
    "        error = a-Y\n",
    "        cost = -((Y*np.log10(a)) + ((1-Y)*np.log10(1-a)))\n",
    "        past_cost.append(np.mean(cost))\n",
    "        theta = theta - ( (1/m) * alpha * np.dot(X.T, error) ) \n",
    "        past_theta.append(theta)\n",
    "        if ( past_theta[i] == past_theta[i+1] ).all() : break\n",
    "    return past_theta, past_cost, i+1    "
   ]
  },
  {
   "cell_type": "code",
   "execution_count": null,
   "metadata": {},
   "outputs": [],
   "source": [
    "start = time.time()\n",
    "past_theta_sig, past_cost_sig, epoch_stop_sig = sigmoid(X, Y, theta, 50000, alpha)\n",
    "sig_time = time.time() - start"
   ]
  },
  {
   "cell_type": "code",
   "execution_count": null,
   "metadata": {},
   "outputs": [],
   "source": [
    "print(f'Sigmoid : \\nEpoch Stop : {epoch_stop_sig} \\nTime Taken : {sig_time}')"
   ]
  },
  {
   "cell_type": "code",
   "execution_count": null,
   "metadata": {},
   "outputs": [],
   "source": [
    "cost_arr = np.asarray(past_cost_sig)\n",
    "cost_arr = cost_arr.reshape((cost_arr.shape[0],1))\n",
    "cost_arr.shape"
   ]
  },
  {
   "cell_type": "code",
   "execution_count": null,
   "metadata": {},
   "outputs": [],
   "source": [
    "plt.plot(cost_arr)\n",
    "plt.show()"
   ]
  },
  {
   "cell_type": "markdown",
   "metadata": {},
   "source": [
    "## Logistic Regression"
   ]
  },
  {
   "cell_type": "code",
   "execution_count": null,
   "metadata": {},
   "outputs": [],
   "source": [
    "def Logistic_Regression(data, pred_col, alpha, epoch):\n",
    "    #Declaring X,y and theta\n",
    "    y = np.array(data[pred_col]).reshape((-1,1))\n",
    "    X = np.array(data.drop(pred_col, axis = 1))\n",
    "    X = np.c_[np.ones(X.shape[0]), X]\n",
    "    theta = np.random.rand(X.shape[1])\n",
    "    theta = theta.reshape(theta.shape[0], 1)\n",
    "    \n",
    "    #Gradient Descent\n",
    "    m = y.size\n",
    "    past_cost = []\n",
    "    for i in range(epoch):\n",
    "        z = np.dot(X,theta)\n",
    "        predictions =  1 / (1 + np.exp(-z))  # sigmoid(a)\n",
    "        error = predictions-Y\n",
    "        descent = alpha * 1/m * np.dot(X.T, error)\n",
    "        theta-=descent # updated value of theta\n",
    "        \n",
    "        # Cost Computation\n",
    "        cost = -((Y*np.log10(predictions)) + ((1-Y)*np.log10(1-predictions)))\n",
    "        past_cost.append(np.mean(cost)) # Appending cost\n",
    "    return theta, past_cost, predictions"
   ]
  },
  {
   "cell_type": "code",
   "execution_count": null,
   "metadata": {},
   "outputs": [],
   "source": [
    "alpha = 0.01\n",
    "epoch = 10000\n",
    "data = pd.DataFrame(np.hstack([X,Y]))\n",
    "data.columns = ['1s','X', 'Y']\n",
    "\n",
    "start = time.time()\n",
    "theta_lor, past_cost_lor, predictions_lor = Logistic_Regression(data,'Y',alpha, epoch)\n",
    "total_time_lor = time.time() - start"
   ]
  },
  {
   "cell_type": "code",
   "execution_count": null,
   "metadata": {},
   "outputs": [],
   "source": [
    "predictions_lor"
   ]
  },
  {
   "cell_type": "code",
   "execution_count": null,
   "metadata": {},
   "outputs": [],
   "source": [
    "print(f\"h(x) = {str(round(theta_lor[0,0],2))}+{str(round(theta_lor[1,0],2))}x1{str(round(theta_lor[2,0],2))}x2\\nTime Taken to calculate Cost : {total_time_lor} \\nAccuracy : {round(r2_score(Y, predictions_lor) , 3)}%\")"
   ]
  },
  {
   "cell_type": "code",
   "execution_count": null,
   "metadata": {},
   "outputs": [],
   "source": [
    "cost_arr = np.asarray(past_cost_lor)\n",
    "cost_arr = cost_arr.reshape((cost_arr.shape[0],1))\n",
    "cost_arr.shape"
   ]
  },
  {
   "cell_type": "code",
   "execution_count": null,
   "metadata": {},
   "outputs": [],
   "source": [
    "plt.plot(cost_arr)\n",
    "plt.show()"
   ]
  },
  {
   "cell_type": "code",
   "execution_count": null,
   "metadata": {},
   "outputs": [],
   "source": []
  }
 ],
 "metadata": {
  "kernelspec": {
   "display_name": "Python 3",
   "language": "python",
   "name": "python3"
  },
  "language_info": {
   "codemirror_mode": {
    "name": "ipython",
    "version": 3
   },
   "file_extension": ".py",
   "mimetype": "text/x-python",
   "name": "python",
   "nbconvert_exporter": "python",
   "pygments_lexer": "ipython3",
   "version": "3.8.8"
  }
 },
 "nbformat": 4,
 "nbformat_minor": 4
}
