{
 "cells": [
  {
   "cell_type": "code",
   "execution_count": 1,
   "metadata": {},
   "outputs": [],
   "source": [
    "import numpy as np"
   ]
  },
  {
   "cell_type": "markdown",
   "metadata": {},
   "source": [
    "### Inputs"
   ]
  },
  {
   "cell_type": "code",
   "execution_count": 2,
   "metadata": {},
   "outputs": [],
   "source": [
    "np.random.seed(1)\n",
    "X=np.random.randn(2,5)\n",
    "Y=(np.random.randn(1,5)>0)"
   ]
  },
  {
   "cell_type": "code",
   "execution_count": 3,
   "metadata": {},
   "outputs": [
    {
     "data": {
      "text/plain": [
       "(array([[ 1.62434536, -0.61175641, -0.52817175, -1.07296862,  0.86540763],\n",
       "        [-2.3015387 ,  1.74481176, -0.7612069 ,  0.3190391 , -0.24937038]]),\n",
       " array([[ True, False, False, False,  True]]))"
      ]
     },
     "execution_count": 3,
     "metadata": {},
     "output_type": "execute_result"
    }
   ],
   "source": [
    "X,Y"
   ]
  },
  {
   "cell_type": "markdown",
   "metadata": {},
   "source": [
    "### Activation Functions"
   ]
  },
  {
   "cell_type": "code",
   "execution_count": 4,
   "metadata": {},
   "outputs": [],
   "source": [
    "def sigmoid(z):\n",
    "    s = 1/(1+np.exp(-z))\n",
    "    return s"
   ]
  },
  {
   "cell_type": "code",
   "execution_count": 5,
   "metadata": {},
   "outputs": [],
   "source": [
    "def tanh(z):\n",
    "    return np.tanh(z)"
   ]
  },
  {
   "cell_type": "code",
   "execution_count": 6,
   "metadata": {},
   "outputs": [],
   "source": [
    "def relu(x):\n",
    "    s = np.maximum(0,x)\n",
    "    return s"
   ]
  },
  {
   "cell_type": "code",
   "execution_count": 7,
   "metadata": {},
   "outputs": [],
   "source": [
    "def leaky_relu(z):\n",
    "    return np.maximum(0.01,z)"
   ]
  },
  {
   "cell_type": "code",
   "execution_count": 8,
   "metadata": {},
   "outputs": [],
   "source": [
    "def softmax(z):\n",
    "    return np.exp(z)/np.sum(np.exp(z))"
   ]
  },
  {
   "cell_type": "markdown",
   "metadata": {},
   "source": [
    "### Layer Size"
   ]
  },
  {
   "cell_type": "code",
   "execution_count": 9,
   "metadata": {},
   "outputs": [],
   "source": [
    "def layer_size(X,Y):\n",
    "    n_x = X.shape[0]\n",
    "    n_h1 = 4\n",
    "    n_h2 = 3\n",
    "    n_h3 = 2\n",
    "    n_y = Y.shape[0]\n",
    "    return (n_x,n_h1,n_h2,n_h3,n_y)"
   ]
  },
  {
   "cell_type": "code",
   "execution_count": 10,
   "metadata": {},
   "outputs": [
    {
     "data": {
      "text/plain": [
       "(2, 4, 3, 2, 1)"
      ]
     },
     "execution_count": 10,
     "metadata": {},
     "output_type": "execute_result"
    }
   ],
   "source": [
    "n_x,n_h1,n_h2,n_h3,n_y = layer_size(X,Y)\n",
    "n_x,n_h1,n_h2,n_h3,n_y"
   ]
  },
  {
   "cell_type": "markdown",
   "metadata": {},
   "source": [
    "### Parameters (W, b)"
   ]
  },
  {
   "cell_type": "code",
   "execution_count": 11,
   "metadata": {},
   "outputs": [],
   "source": [
    "def int_value(n_x,n_h1,n_h2,n_h3,n_y):\n",
    "    np.random.seed(1)\n",
    "    W1 = np.random.randn(n_h1,n_x)*0.01\n",
    "    b1 = np.zeros(shape = (n_h1,1))\n",
    "    W2 = np.random.randn(n_h2,n_h1)*0.01\n",
    "    b2 = np.zeros(shape = (n_h2,1))\n",
    "    W3 = np.random.randn(n_h3,n_h2)*0.01\n",
    "    b3 = np.zeros(shape = (n_h3,1))\n",
    "    W4 = np.random.randn(n_y,n_h3)*0.01\n",
    "    b4 = np.zeros(shape = (n_y,1))\n",
    "    \n",
    "    parameters = {'W1':W1, 'b1':b1, 'W2':W2, 'b2':b2, 'W3':W3, 'b3':b3, 'W4':W4, 'b4':b4}\n",
    "    return parameters"
   ]
  },
  {
   "cell_type": "code",
   "execution_count": 12,
   "metadata": {},
   "outputs": [
    {
     "data": {
      "text/plain": [
       "{'W1': array([[ 0.01624345, -0.00611756],\n",
       "        [-0.00528172, -0.01072969],\n",
       "        [ 0.00865408, -0.02301539],\n",
       "        [ 0.01744812, -0.00761207]]),\n",
       " 'b1': array([[0.],\n",
       "        [0.],\n",
       "        [0.],\n",
       "        [0.]]),\n",
       " 'W2': array([[ 0.00319039, -0.0024937 ,  0.01462108, -0.02060141],\n",
       "        [-0.00322417, -0.00384054,  0.01133769, -0.01099891],\n",
       "        [-0.00172428, -0.00877858,  0.00042214,  0.00582815]]),\n",
       " 'b2': array([[0.],\n",
       "        [0.],\n",
       "        [0.]]),\n",
       " 'W3': array([[-0.01100619,  0.01144724,  0.00901591],\n",
       "        [ 0.00502494,  0.00900856, -0.00683728]]),\n",
       " 'b3': array([[0.],\n",
       "        [0.]]),\n",
       " 'W4': array([[-0.0012289 , -0.00935769]]),\n",
       " 'b4': array([[0.]])}"
      ]
     },
     "execution_count": 12,
     "metadata": {},
     "output_type": "execute_result"
    }
   ],
   "source": [
    "parameters = int_value(n_x,n_h1,n_h2,n_h3,n_y)\n",
    "parameters"
   ]
  },
  {
   "cell_type": "markdown",
   "metadata": {},
   "source": [
    "### Step 1 : Forward Propogation"
   ]
  },
  {
   "cell_type": "code",
   "execution_count": 13,
   "metadata": {},
   "outputs": [],
   "source": [
    "def fwd_prg(X, parameters):\n",
    "    W1 = parameters['W1']\n",
    "    b1 = parameters['b1']\n",
    "    W2 = parameters['W2']\n",
    "    b2 = parameters['b2']\n",
    "    W3 = parameters['W3']\n",
    "    b3 = parameters['b3']\n",
    "    W4 = parameters['W4']\n",
    "    b4 = parameters['b4']\n",
    "    \n",
    "    Z1 = np.dot(W1,X) + b1\n",
    "    A1 = relu(Z1)  \n",
    "    \n",
    "    Z2 = np.dot(W2,A1) + b2\n",
    "    A2 = relu(Z2)\n",
    "    \n",
    "    Z3 = np.dot(W3,A2) + b3\n",
    "    A3 = np.tanh(Z3)\n",
    "    \n",
    "    Z4 = np.dot(W4,A3) + b4\n",
    "    A4 = sigmoid(Z4)\n",
    "    \n",
    "    cache = {'Z1': Z1, 'A1': A1, 'Z2': Z2, 'A2': A2, 'Z3': Z3, 'A3': A3, 'Z4': Z4, 'A4': A4}\n",
    "    \n",
    "    return A4, cache"
   ]
  },
  {
   "cell_type": "code",
   "execution_count": 14,
   "metadata": {
    "scrolled": true
   },
   "outputs": [
    {
     "data": {
      "text/plain": [
       "array([[0.5, 0.5, 0.5, 0.5, 0.5]])"
      ]
     },
     "execution_count": 14,
     "metadata": {},
     "output_type": "execute_result"
    }
   ],
   "source": [
    "A4, cache =  fwd_prg(X, parameters)\n",
    "A4"
   ]
  },
  {
   "cell_type": "markdown",
   "metadata": {},
   "source": [
    "### Step 2 : Calculate Cost"
   ]
  },
  {
   "cell_type": "code",
   "execution_count": 15,
   "metadata": {},
   "outputs": [],
   "source": [
    "def compute_cost(A4,Y):\n",
    "    m = Y.size\n",
    "    cost = -np.sum(Y*np.log(A4)+(1-Y)*np.log(1-A4))/m\n",
    "    return cost"
   ]
  },
  {
   "cell_type": "code",
   "execution_count": 16,
   "metadata": {},
   "outputs": [
    {
     "data": {
      "text/plain": [
       "0.693147179166595"
      ]
     },
     "execution_count": 16,
     "metadata": {},
     "output_type": "execute_result"
    }
   ],
   "source": [
    "cost = compute_cost(A4,Y)\n",
    "cost"
   ]
  },
  {
   "cell_type": "markdown",
   "metadata": {},
   "source": [
    "### Step 3 : Backward Propogation"
   ]
  },
  {
   "cell_type": "code",
   "execution_count": 17,
   "metadata": {},
   "outputs": [],
   "source": [
    "def BWP(parameters, cache, X, Y):\n",
    "    m = Y.size\n",
    "    \n",
    "    # parameters\n",
    "    W1 = parameters['W1']\n",
    "    b1 = parameters['b1']\n",
    "    W2 = parameters['W2']\n",
    "    b2 = parameters['b2']\n",
    "    W3 = parameters['W3']\n",
    "    b3 = parameters['b3']\n",
    "    W4 = parameters['W4']\n",
    "    b4 = parameters['b4']\n",
    "    \n",
    "    #cache\n",
    "    A1 = cache['A1']\n",
    "    A2 = cache['A2']\n",
    "    A3 = cache['A3']\n",
    "    A4 = cache['A4']\n",
    "    \n",
    "    dZ4 = A4 - Y\n",
    "    dW4 = np.dot(dZ4,A3.T)/m\n",
    "    db4 = np.sum(dZ4, axis = 1, keepdims = True)/m\n",
    "    \n",
    "    dZ3 = np.dot(W4.T, dZ4)*(1 - np.power(A3,2))\n",
    "    dW3 = np.dot(dZ3, A2.T)/m\n",
    "    db3 = np.sum(dZ3, axis = 1, keepdims = True)/m\n",
    "    \n",
    "    dA2 = np.dot(W3.T,dZ3)\n",
    "    dZ2 = np.multiply(dA2, np.int64(A2>0))\n",
    "    dW2 = np.dot(dZ2, A1.T)/m\n",
    "    db2 = np.sum(dZ2, axis = 1, keepdims = True)/m\n",
    "    \n",
    "    \n",
    "    dA1 = np.dot(W2.T,dZ2)\n",
    "    dZ1 = np.multiply(dA1, np.int64(A1>0))\n",
    "    dW1 = np.dot(dZ1,X.T)/m\n",
    "    db1 = np.sum(dZ1, axis = 1, keepdims = True)/m\n",
    "    \n",
    "    grades = {'dW1' : dW1, 'db1' : db1, 'dW2' : dW2, 'db2' : db2, 'dW3' : dW3, 'db3' : db3, 'dW4' : dW4, 'db4' : db4}\n",
    "    \n",
    "    return grades"
   ]
  },
  {
   "cell_type": "code",
   "execution_count": 18,
   "metadata": {},
   "outputs": [
    {
     "data": {
      "text/plain": [
       "{'dW1': array([[-1.14467902e-08,  2.51293222e-08],\n",
       "        [-2.38636201e-08, -3.58261127e-08],\n",
       "        [ 3.39920342e-07, -2.41527634e-07],\n",
       "        [-3.64597668e-07,  4.86481926e-07]]),\n",
       " 'db1': array([[-2.78510990e-09],\n",
       "        [ 4.64400219e-08],\n",
       "        [-4.46633884e-09],\n",
       "        [-2.38863662e-07]]),\n",
       " 'dW2': array([[ 1.35542276e-07,  1.72783877e-08,  1.81146186e-07,\n",
       "          1.53618418e-07],\n",
       "        [ 3.98039514e-07,  5.07404864e-08,  5.31961997e-07,\n",
       "          4.51122722e-07],\n",
       "        [-2.96499848e-07, -8.52531639e-08, -4.24569789e-07,\n",
       "         -3.32534558e-07]]),\n",
       " 'db2': array([[ 3.62506689e-14],\n",
       "        [ 1.06442528e-13],\n",
       "        [-1.05802989e-05]]),\n",
       " 'dW3': array([[-4.65408963e-09, -5.10785515e-09,  1.99229245e-08],\n",
       "        [-3.54393915e-08, -3.88946697e-08,  1.51706645e-07]]),\n",
       " 'db3': array([[-0.00012289],\n",
       "        [-0.00093577]]),\n",
       " 'dW4': array([[-1.40268449e-07,  1.67319686e-07]]),\n",
       " 'db4': array([[0.1]])}"
      ]
     },
     "execution_count": 18,
     "metadata": {},
     "output_type": "execute_result"
    }
   ],
   "source": [
    "grades = BWP(parameters, cache, X, Y)\n",
    "grades"
   ]
  },
  {
   "cell_type": "markdown",
   "metadata": {},
   "source": [
    "### Step 4 : Update Parameters"
   ]
  },
  {
   "cell_type": "code",
   "execution_count": 19,
   "metadata": {},
   "outputs": [],
   "source": [
    "def update(parameters, grades, lr):\n",
    "    \n",
    "    #parameters\n",
    "    W1 = parameters['W1']\n",
    "    b1 = parameters['b1']\n",
    "    W2 = parameters['W2']\n",
    "    b2 = parameters['b2']\n",
    "    W3 = parameters['W3']\n",
    "    b3 = parameters['b3']\n",
    "    W4 = parameters['W4']\n",
    "    b4 = parameters['b4']\n",
    "    \n",
    "    #grades\n",
    "    dW1 = grades['dW1']\n",
    "    db1 = grades['db1']\n",
    "    dW2 = grades['dW2']\n",
    "    db2 = grades['db2']\n",
    "    dW3 = grades['dW3']\n",
    "    db3 = grades['db3']\n",
    "    dW4 = grades['dW4']\n",
    "    db4 = grades['db4']\n",
    "    \n",
    "    W1 = W1 - lr*dW1\n",
    "    b1 = b1 - lr* db1\n",
    "    W2 = W2 - lr* dW2\n",
    "    b2 = b2 - lr* db2\n",
    "    W3 = W3 - lr* dW3\n",
    "    b3 = b3 - lr* db3\n",
    "    W4 = W4 - lr* dW4\n",
    "    b4 = b4 - lr* db4\n",
    "\n",
    "    parameters = {'W1':W1, 'b1':b1, 'W2':W2, 'b2':b2, 'W3':W3, 'b3':b3, 'W4':W4, 'b4':b4}\n",
    "    \n",
    "    return parameters"
   ]
  },
  {
   "cell_type": "code",
   "execution_count": 20,
   "metadata": {},
   "outputs": [
    {
     "data": {
      "text/plain": [
       "{'W1': array([[ 0.01624345, -0.00611756],\n",
       "        [-0.00528172, -0.01072969],\n",
       "        [ 0.00865407, -0.02301538],\n",
       "        [ 0.01744812, -0.00761207]]),\n",
       " 'b1': array([[ 2.78510990e-11],\n",
       "        [-4.64400219e-10],\n",
       "        [ 4.46633884e-11],\n",
       "        [ 2.38863662e-09]]),\n",
       " 'W2': array([[ 0.00319039, -0.0024937 ,  0.01462108, -0.02060141],\n",
       "        [-0.00322418, -0.00384054,  0.01133769, -0.01099892],\n",
       "        [-0.00172428, -0.00877858,  0.00042214,  0.00582816]]),\n",
       " 'b2': array([[-3.62506689e-16],\n",
       "        [-1.06442528e-15],\n",
       "        [ 1.05802989e-07]]),\n",
       " 'W3': array([[-0.01100619,  0.01144724,  0.00901591],\n",
       "        [ 0.00502494,  0.00900856, -0.00683728]]),\n",
       " 'b3': array([[1.22890224e-06],\n",
       "        [9.35769426e-06]]),\n",
       " 'W4': array([[-0.0012289, -0.0093577]]),\n",
       " 'b4': array([[-0.001]])}"
      ]
     },
     "execution_count": 20,
     "metadata": {},
     "output_type": "execute_result"
    }
   ],
   "source": [
    "parameters = update(parameters, grades, lr = 0.01)\n",
    "parameters"
   ]
  },
  {
   "cell_type": "markdown",
   "metadata": {},
   "source": [
    "### Entire Neural Network"
   ]
  },
  {
   "cell_type": "code",
   "execution_count": 21,
   "metadata": {},
   "outputs": [],
   "source": [
    "def NN(X, Y, n_h1, n_h2, n_h3, epoch, print_cost):\n",
    "    np.random.seed(1)\n",
    "    n_x = layer_size(X,Y)[0]\n",
    "    n_y = layer_size(X,Y)[4]\n",
    "    \n",
    "    parameters = int_value(n_x, n_h1, n_h2, n_h3 ,n_y)\n",
    "    past_cost = []\n",
    "    for i in range(epoch):\n",
    "        A4,cache = fwd_prg(X, parameters)\n",
    "        \n",
    "        cost = compute_cost(A4,Y)\n",
    "        past_cost.append(cost)\n",
    "        \n",
    "        grades = BWP(parameters, cache, X, Y)\n",
    "        \n",
    "        parameters = update(parameters, grades, lr = 0.1)\n",
    "        \n",
    "        if print_cost and i%10000 == 0:\n",
    "            print(cost)\n",
    "            \n",
    "    return parameters, past_cost"
   ]
  },
  {
   "cell_type": "code",
   "execution_count": 22,
   "metadata": {},
   "outputs": [
    {
     "name": "stdout",
     "output_type": "stream",
     "text": [
      "0.693147179166595\n",
      "0.6730116606730594\n",
      "0.6730116523508691\n",
      "0.6730116366313752\n",
      "0.6730115964403446\n",
      "0.6730114410001475\n",
      "0.6730092838857301\n",
      "0.0010076261136785654\n",
      "0.00033202491560014165\n",
      "0.00019892720036096204\n"
     ]
    },
    {
     "data": {
      "text/plain": [
       "{'W1': array([[ 0.59929675, -0.10934447],\n",
       "        [-0.00522299, -0.00619478],\n",
       "        [ 0.19086776, -0.05010794],\n",
       "        [ 1.48859952, -0.26932849]]),\n",
       " 'b1': array([[ 0.2332978 ],\n",
       "        [-0.00451169],\n",
       "        [ 0.06266842],\n",
       "        [ 0.58122173]]),\n",
       " 'W2': array([[-0.18970472, -0.00179   , -0.04461868, -0.48885628],\n",
       "        [-0.21350806, -0.00345976, -0.05535884, -0.51857208],\n",
       "        [ 0.58620463, -0.00507693,  0.19373899,  1.45540906]]),\n",
       " 'b2': array([[ 1.10527592e+00],\n",
       "        [ 1.18395293e+00],\n",
       "        [-3.76348274e-07]]),\n",
       " 'W3': array([[-0.72402784, -0.75644519,  0.92370649],\n",
       "        [ 0.98674495,  1.07090073, -1.28297626]]),\n",
       " 'b3': array([[-0.4910573 ],\n",
       "        [ 0.58852474]]),\n",
       " 'W4': array([[ 3.35082589, -5.55738068]]),\n",
       " 'b4': array([[-0.28711858]])}"
      ]
     },
     "execution_count": 22,
     "metadata": {},
     "output_type": "execute_result"
    }
   ],
   "source": [
    "parameters, cost = NN(X, Y, n_h1, n_h2, n_h3,epoch = 100000, print_cost = True)\n",
    "parameters"
   ]
  },
  {
   "cell_type": "markdown",
   "metadata": {},
   "source": [
    "### Cost Graph"
   ]
  },
  {
   "cell_type": "code",
   "execution_count": 23,
   "metadata": {},
   "outputs": [
    {
     "data": {
      "image/png": "[encoded data removed]",
      "text/plain": [
       "<Figure size 432x288 with 1 Axes>"
      ]
     },
     "metadata": {
      "needs_background": "light"
     },
     "output_type": "display_data"
    }
   ],
   "source": [
    "import matplotlib.pyplot as plt\n",
    "plt.plot(cost)\n",
    "plt.show()"
   ]
  }
 ],
 "metadata": {
  "kernelspec": {
   "display_name": "Python 3",
   "language": "python",
   "name": "python3"
  },
  "language_info": {
   "codemirror_mode": {
    "name": "ipython",
    "version": 3
   },
   "file_extension": ".py",
   "mimetype": "text/x-python",
   "name": "python",
   "nbconvert_exporter": "python",
   "pygments_lexer": "ipython3",
   "version": "3.8.8"
  }
 },
 "nbformat": 4,
 "nbformat_minor": 4
}
