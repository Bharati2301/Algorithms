{
 "cells": [
  {
   "cell_type": "code",
   "execution_count": 1,
   "metadata": {},
   "outputs": [],
   "source": [
    "from keras.datasets import mnist\n",
    "import numpy as np\n",
    "import pandas as pd\n",
    "import matplotlib.pyplot as plt\n",
    "from PIL import Image\n",
    "from matplotlib.image import imread\n",
    "from pylab import *\n",
    "import math\n",
    "import time\n",
    "import decimal"
   ]
  },
  {
   "cell_type": "markdown",
   "metadata": {},
   "source": [
    "### Inputs"
   ]
  },
  {
   "cell_type": "code",
   "execution_count": 2,
   "metadata": {},
   "outputs": [],
   "source": [
    "(X_train, Y_train), (X_test, Y_test) = mnist.load_data()"
   ]
  },
  {
   "cell_type": "code",
   "execution_count": 3,
   "metadata": {},
   "outputs": [
    {
     "data": {
      "text/plain": [
       "(60000, 28, 28)"
      ]
     },
     "execution_count": 3,
     "metadata": {},
     "output_type": "execute_result"
    }
   ],
   "source": [
    "X_train.shape #images, dimensions of each image, no 3rd dimension hence black and white image"
   ]
  },
  {
   "cell_type": "code",
   "execution_count": 4,
   "metadata": {},
   "outputs": [
    {
     "data": {
      "text/plain": [
       "(10000, 28, 28)"
      ]
     },
     "execution_count": 4,
     "metadata": {},
     "output_type": "execute_result"
    }
   ],
   "source": [
    "X_test.shape"
   ]
  },
  {
   "cell_type": "code",
   "execution_count": 5,
   "metadata": {},
   "outputs": [
    {
     "data": {
      "text/plain": [
       "<matplotlib.image.AxesImage at 0x1a60d8648e0>"
      ]
     },
     "execution_count": 5,
     "metadata": {},
     "output_type": "execute_result"
    },
    {
     "data": {
      "image/png": "[encoded data removed]",
      "text/plain": [
       "<Figure size 432x288 with 1 Axes>"
      ]
     },
     "metadata": {
      "needs_background": "light"
     },
     "output_type": "display_data"
    }
   ],
   "source": [
    "plt.imshow(X_train[1,:,:], cmap = 'gray')"
   ]
  },
  {
   "cell_type": "code",
   "execution_count": 6,
   "metadata": {},
   "outputs": [
    {
     "data": {
      "text/plain": [
       "<matplotlib.image.AxesImage at 0x1a60d93af70>"
      ]
     },
     "execution_count": 6,
     "metadata": {},
     "output_type": "execute_result"
    },
    {
     "data": {
      "image/png": "[encoded data removed]",
      "text/plain": [
       "<Figure size 432x288 with 1 Axes>"
      ]
     },
     "metadata": {
      "needs_background": "light"
     },
     "output_type": "display_data"
    }
   ],
   "source": [
    "plt.imshow(X_train[201,:,:], cmap = 'gray')"
   ]
  },
  {
   "cell_type": "markdown",
   "metadata": {},
   "source": [
    "### Preprocessing"
   ]
  },
  {
   "cell_type": "code",
   "execution_count": 7,
   "metadata": {},
   "outputs": [
    {
     "data": {
      "text/plain": [
       "(784, 60000)"
      ]
     },
     "execution_count": 7,
     "metadata": {},
     "output_type": "execute_result"
    }
   ],
   "source": [
    "X_train = X_train.reshape( ((28*28),60000) ) # to convert to 2d and NN format\n",
    "X_train = X_train.astype('float32')/255 #Standardized\n",
    "\n",
    "X_test = X_test.reshape( ((28*28),10000) )\n",
    "X_test = X_test.astype('float32')/255\n",
    "X_train.shape"
   ]
  },
  {
   "cell_type": "code",
   "execution_count": 8,
   "metadata": {},
   "outputs": [
    {
     "data": {
      "text/plain": [
       "array([5, 0, 4, ..., 5, 6, 8], dtype=uint8)"
      ]
     },
     "execution_count": 8,
     "metadata": {},
     "output_type": "execute_result"
    }
   ],
   "source": [
    "Y_train"
   ]
  },
  {
   "cell_type": "code",
   "execution_count": 9,
   "metadata": {},
   "outputs": [],
   "source": [
    "nodes=[7,6,1]\n",
    "act_functions = ['relu','relu','softmax']\n",
    "X = X_train\n",
    "Y = Y_train"
   ]
  },
  {
   "cell_type": "markdown",
   "metadata": {},
   "source": [
    "### Layer Size"
   ]
  },
  {
   "cell_type": "code",
   "execution_count": 10,
   "metadata": {},
   "outputs": [],
   "source": [
    "def layer_size(X, Y, nodes): #list of nodes does include nodes of output layer\n",
    "    n_h = [X.shape[0]]\n",
    "    for i in nodes:\n",
    "        n_h.append(i)\n",
    "    #n_h.append(Y.shape[0])\n",
    "    return (n_h) # list of all nodes including n_x and n_y"
   ]
  },
  {
   "cell_type": "code",
   "execution_count": 11,
   "metadata": {},
   "outputs": [
    {
     "data": {
      "text/plain": [
       "[784, 7, 6, 1]"
      ]
     },
     "execution_count": 11,
     "metadata": {},
     "output_type": "execute_result"
    }
   ],
   "source": [
    "n_h = layer_size(X, Y, nodes)\n",
    "n_h"
   ]
  },
  {
   "cell_type": "markdown",
   "metadata": {},
   "source": [
    "### Parameters (W, b)"
   ]
  },
  {
   "cell_type": "code",
   "execution_count": 12,
   "metadata": {},
   "outputs": [],
   "source": [
    "def int_value(n_h):\n",
    "    np.random.seed(2)\n",
    "    parameters = {}\n",
    "    for i in range(1, len(n_h)):\n",
    "        parameters['W' + str(i)] = np.random.randn(n_h[i], n_h[i-1]) *0.01 \n",
    "        parameters['b' + str(i)] = np.zeros(shape = (n_h[i],1))\n",
    "    return parameters"
   ]
  },
  {
   "cell_type": "code",
   "execution_count": 13,
   "metadata": {},
   "outputs": [],
   "source": [
    "parameters = int_value(n_h)"
   ]
  },
  {
   "cell_type": "markdown",
   "metadata": {},
   "source": [
    "### Activation functions and their Derivatives"
   ]
  },
  {
   "cell_type": "code",
   "execution_count": 14,
   "metadata": {},
   "outputs": [],
   "source": [
    "def sigmoid(z):\n",
    "    s = 1/(1+np.exp(-z))\n",
    "    return s"
   ]
  },
  {
   "cell_type": "code",
   "execution_count": 15,
   "metadata": {},
   "outputs": [],
   "source": [
    "def tanh(z):\n",
    "    return np.tanh(z)"
   ]
  },
  {
   "cell_type": "code",
   "execution_count": 16,
   "metadata": {},
   "outputs": [],
   "source": [
    "def relu(z):\n",
    "    return np.maximum(0,z) #if z less than returns 0 or else return z"
   ]
  },
  {
   "cell_type": "code",
   "execution_count": 17,
   "metadata": {},
   "outputs": [],
   "source": [
    "def leaky_relu(z):\n",
    "    return np.maximum(0.01,z)"
   ]
  },
  {
   "cell_type": "code",
   "execution_count": 18,
   "metadata": {},
   "outputs": [],
   "source": [
    "def softmax(z):\n",
    "    return np.exp(z)/np.sum(np.exp(z))"
   ]
  },
  {
   "cell_type": "code",
   "execution_count": 19,
   "metadata": {},
   "outputs": [],
   "source": [
    "def derivative(func, A):\n",
    "    if func == 'sigmoid':\n",
    "        return (A*(1-A))\n",
    "    elif func == 'tanh' : \n",
    "        return (1 - np.power(A,2))\n",
    "    elif func == 'relu' :\n",
    "        return np.int64(A>0)\n",
    "    elif func == 'leaky_relu' : \n",
    "        return np.int64(A>0.01)"
   ]
  },
  {
   "cell_type": "markdown",
   "metadata": {},
   "source": [
    "### Forward Propogation"
   ]
  },
  {
   "cell_type": "code",
   "execution_count": 20,
   "metadata": {},
   "outputs": [],
   "source": [
    "def fwd_prg(X, parameters, act_functions):\n",
    "    cache = {}\n",
    "    # Accesing functions name from the list of activation functions to be performed\n",
    "    functions = {'sigmoid' : sigmoid, 'tanh' : tanh, 'relu' : relu, 'leaky_relu' : leaky_relu, 'softmax':softmax} \n",
    "    \n",
    "    # Calculatiing Z1 and appending to dictionary\n",
    "    cache['Z1'] = np.dot(parameters['W1'], X) + parameters['b1']\n",
    "    # Calculating A1 and appending to dictionary\n",
    "    cache['A1'] = functions[act_functions[0]](cache['Z1'])\n",
    "    \n",
    "    #Calculating and appending values of Z and A (Z2, A2, Z3, A3.....so on depending on your no. of hidden layers)\n",
    "    for i in range(2, len(act_functions)+1):\n",
    "        cache['Z' + str(i)] = np.dot( parameters['W' + str(i)], cache['A' + str(i-1)] ) + parameters['b' + str(i)]\n",
    "        cache['A' + str(i)] = functions[act_functions[i-1]](cache['Z' + str(i)])\n",
    "    return cache['A' + str(len(act_functions))], cache"
   ]
  },
  {
   "cell_type": "code",
   "execution_count": 21,
   "metadata": {},
   "outputs": [],
   "source": [
    "A_op, cache =  fwd_prg(X, parameters, act_functions)"
   ]
  },
  {
   "cell_type": "code",
   "execution_count": 22,
   "metadata": {},
   "outputs": [
    {
     "data": {
      "text/plain": [
       "(1, 60000)"
      ]
     },
     "execution_count": 22,
     "metadata": {},
     "output_type": "execute_result"
    }
   ],
   "source": [
    "A_op.shape"
   ]
  },
  {
   "cell_type": "code",
   "execution_count": 23,
   "metadata": {},
   "outputs": [
    {
     "data": {
      "text/plain": [
       "((784, 60000), (60000,))"
      ]
     },
     "execution_count": 23,
     "metadata": {},
     "output_type": "execute_result"
    }
   ],
   "source": [
    "X_train.shape,cache['A1'][0].shape"
   ]
  },
  {
   "cell_type": "markdown",
   "metadata": {},
   "source": [
    "### Viewing the hidden layers"
   ]
  },
  {
   "cell_type": "code",
   "execution_count": 24,
   "metadata": {
    "scrolled": false
   },
   "outputs": [
    {
     "data": {
      "image/png": "[encoded data removed]",
      "text/plain": [
       "<Figure size 1440x504 with 21 Axes>"
      ]
     },
     "metadata": {
      "needs_background": "light"
     },
     "output_type": "display_data"
    }
   ],
   "source": [
    "fig, ax = plt.subplots(len(nodes), max(nodes), sharex='col', sharey='row', figsize=(20,7))\n",
    "for i in range(len(nodes)):\n",
    "    for j in range(nodes[i]):\n",
    "        z = X_train*cache['A' + str(i+1)][j]\n",
    "        z = z.reshape(60000,28,28) # to convert to 3d for printing purposes\n",
    "        ax[i,j].imshow(z[0,:,:], cmap = 'gray')"
   ]
  },
  {
   "cell_type": "markdown",
   "metadata": {},
   "source": [
    "### Calculating Cost"
   ]
  },
  {
   "cell_type": "code",
   "execution_count": 25,
   "metadata": {},
   "outputs": [],
   "source": [
    "def compute_cost(A_op, Y):\n",
    "    m = Y.size\n",
    "    cost = -np.sum( (Y*np.log(A_op)) + ((1-Y)*np.log(1-A_op)) ) / m\n",
    "    return cost"
   ]
  },
  {
   "cell_type": "markdown",
   "metadata": {},
   "source": [
    "### Backward Propogation"
   ]
  },
  {
   "cell_type": "code",
   "execution_count": 26,
   "metadata": {},
   "outputs": [],
   "source": [
    "def bwd_prg(X, Y, parameters, cache, act_functions):\n",
    "    m = Y.size\n",
    "    grades = {}\n",
    "    dZ_op = cache['A' + str(len(act_functions))] - Y\n",
    "    \n",
    "    for i in range(len(act_functions), 1, -1):\n",
    "        grades['dW' + str(i)] = np.dot(dZ_op, cache['A' + str(i-1)].T)/m\n",
    "        grades['db' + str(i)] = np.sum(dZ_op, axis = 1, keepdims = True)/m\n",
    "        dA = np.dot(parameters['W' + str(i)].T, dZ_op)\n",
    "        der = derivative( act_functions[i-2], cache['A'+str(i-1)] )\n",
    "        dZ_op = np.multiply(dA, der)\n",
    "         \n",
    "    grades['dW1'] = np.dot(dZ_op, X.T)/m\n",
    "    grades['db1'] = np.sum(dZ_op, axis = 1, keepdims = True)/m\n",
    "        \n",
    "    return grades "
   ]
  },
  {
   "cell_type": "markdown",
   "metadata": {},
   "source": [
    "### Update Parameters"
   ]
  },
  {
   "cell_type": "code",
   "execution_count": 27,
   "metadata": {},
   "outputs": [],
   "source": [
    "def update(parameters, grades, alpha, layers):\n",
    "    for i in range(1, layers+1):\n",
    "        parameters['W' + str(i)] = parameters['W' + str(i)] - (alpha * grades['dW' + str(i)])\n",
    "        parameters['b' + str(i)] = parameters['b' + str(i)] - (alpha * grades['db' + str(i)])\n",
    "    return parameters"
   ]
  },
  {
   "cell_type": "markdown",
   "metadata": {},
   "source": [
    "### Entire neural Network"
   ]
  },
  {
   "cell_type": "code",
   "execution_count": 28,
   "metadata": {},
   "outputs": [],
   "source": [
    "def NN(X, Y, nodes, act_functions, alpha, epoch, print_cost):\n",
    "    np.random.seed(2)\n",
    "    n_h= layer_size(X, Y, nodes)\n",
    "    parameters = int_value(n_h)\n",
    "    past_cost = []\n",
    "    \n",
    "    for i in range(epoch):\n",
    "        A_op, cache = fwd_prg(X, parameters, act_functions)\n",
    "        \n",
    "        cost = compute_cost(A_op, Y)\n",
    "        past_cost.append(cost)\n",
    "        \n",
    "        grades = bwd_prg(X, Y, parameters, cache, act_functions)\n",
    "        parameters = update(parameters, grades, alpha, len(act_functions))\n",
    "        \n",
    "        if print_cost and i%(epoch/10)==0: \n",
    "            print(cost)\n",
    "    return parameters, past_cost"
   ]
  },
  {
   "cell_type": "code",
   "execution_count": 29,
   "metadata": {},
   "outputs": [],
   "source": [
    "alpha = 0.001\n",
    "epoch = 1000\n",
    "print_cost = True"
   ]
  },
  {
   "cell_type": "code",
   "execution_count": 30,
   "metadata": {},
   "outputs": [
    {
     "name": "stdout",
     "output_type": "stream",
     "text": [
      "49.005927739611856\n",
      "49.005927700425886\n",
      "49.0059276797155\n",
      "49.005927658720196\n",
      "49.00592764444061\n",
      "49.00592762906179\n",
      "49.005927647150614\n",
      "49.005927787072686\n",
      "49.00592831813229\n",
      "49.00592985266367\n"
     ]
    }
   ],
   "source": [
    "parameters, past_cost = NN(X, Y, nodes, act_functions, alpha, epoch, print_cost)"
   ]
  },
  {
   "cell_type": "markdown",
   "metadata": {},
   "source": [
    "### Cost Graph"
   ]
  },
  {
   "cell_type": "code",
   "execution_count": 31,
   "metadata": {},
   "outputs": [
    {
     "data": {
      "image/png": "[encoded data removed]",
      "text/plain": [
       "<Figure size 432x288 with 1 Axes>"
      ]
     },
     "metadata": {
      "needs_background": "light"
     },
     "output_type": "display_data"
    }
   ],
   "source": [
    "plt.plot(past_cost)\n",
    "plt.show()"
   ]
  }
 ],
 "metadata": {
  "kernelspec": {
   "display_name": "Python 3",
   "language": "python",
   "name": "python3"
  },
  "language_info": {
   "codemirror_mode": {
    "name": "ipython",
    "version": 3
   },
   "file_extension": ".py",
   "mimetype": "text/x-python",
   "name": "python",
   "nbconvert_exporter": "python",
   "pygments_lexer": "ipython3",
   "version": "3.8.8"
  }
 },
 "nbformat": 4,
 "nbformat_minor": 4
}
